{
 "cells": [
  {
   "cell_type": "code",
   "execution_count": 2,
   "id": "d7184209-3f59-4a36-8d86-0b2ab31cf84c",
   "metadata": {},
   "outputs": [],
   "source": [
    "import pandas_datareader as web\n",
    "import pandas as pd\n",
    "import plotly.express as px\n",
    "import numpy as np\n",
    "import json"
   ]
  },
  {
   "cell_type": "markdown",
   "id": "a6be0a0c-dc5f-46e1-82eb-deedc5950e32",
   "metadata": {},
   "source": [
    "# Extraindo as ações do Índice BOVESPA com os seus respectivos setores"
   ]
  },
  {
   "cell_type": "code",
   "execution_count": 25,
   "id": "6318ffc7-97b8-493f-bf9b-443e345abb51",
   "metadata": {
    "tags": []
   },
   "outputs": [],
   "source": [
    "import pandas as pd\n",
    "acoes = pd.read_html('https://blog.toroinvestimentos.com.br/empresas-listadas-b3-bovespa', decimal=',')\n",
    "acoes_setores = acoes[1]\n",
    "acoes_setores.columns = acoes_setores.iloc[0]\n",
    "acoes_setores.drop(index=0,inplace=True)\n",
    "acoes_setores_dict = acoes_setores[['Ticker','Setor']].to_dict(orient='list')"
   ]
  },
  {
   "cell_type": "code",
   "execution_count": 30,
   "id": "802a5958-eeff-4772-ab7d-c74827b499e5",
   "metadata": {},
   "outputs": [
    {
     "data": {
      "text/plain": [
       "{'Alimentos',\n",
       " 'Aluguel de Veículos',\n",
       " 'Bens Industriais',\n",
       " 'Bens industriais',\n",
       " 'Companhia aérea',\n",
       " 'Comércio',\n",
       " 'Construção',\n",
       " 'Construção civil',\n",
       " 'Educação',\n",
       " 'Energia Elétrica',\n",
       " 'Energia elétrica',\n",
       " 'Exploração de imóveis',\n",
       " 'Financeiro',\n",
       " 'Locação de veículos',\n",
       " 'Madeira e papel',\n",
       " 'Mineração',\n",
       " 'Petróleo e Gás',\n",
       " 'Químicos',\n",
       " 'Saneamento',\n",
       " 'Saúde',\n",
       " 'Seguros',\n",
       " 'Shopping Centers',\n",
       " 'Siderurgia e Metalurgia',\n",
       " 'Tecnologia',\n",
       " 'Telecomunicações',\n",
       " 'Varejo',\n",
       " 'Viagens e lazer'}"
      ]
     },
     "execution_count": 30,
     "metadata": {},
     "output_type": "execute_result"
    }
   ],
   "source": [
    "# Para renomear as chaves do dicionário,ver: https://stackoverflow.com/questions/16475384/rename-a-dictionary-key\n",
    "translation = {'Alimentos':'Food', 'Aluguel de Veículos':'Vehicle Rent', \n",
    "               'Bens Industriais':'Industrial Goods', 'Companhia aérea':'Flight Companies',\n",
    "              'Comércio':'Commerce','Construção Civil':'Construction','Construção':'Real Estate'.\n",
    "              'Educação':'Education',  'Energia Elétrica':'Eletric Energy','Financeiro':'Finance',\n",
    "              '}\n",
    "set(acoes_setores_dict['Setor'])#['Bens Industriais']"
   ]
  },
  {
   "cell_type": "code",
   "execution_count": 115,
   "id": "47ed60ff-34e1-42b6-b868-323aa75a51f0",
   "metadata": {},
   "outputs": [],
   "source": [
    "import json\n",
    "with open(\"sector_stocks.json\", \"w\") as outfile:\n",
    "    json.dump(d, outfile)"
   ]
  },
  {
   "cell_type": "code",
   "execution_count": 62,
   "id": "71c68157-543a-4c5d-9591-f2c92d391a0a",
   "metadata": {
    "collapsed": true,
    "jupyter": {
     "outputs_hidden": true
    },
    "tags": []
   },
   "outputs": [
    {
     "data": {
      "text/plain": [
       "{'Alimentos': ['ABEV3', 'BRFS3', 'CSAN3', 'JBSS3', 'MRFG3', 'BEEF3'],\n",
       " 'Varejo': ['ASAI3',\n",
       "  'BTOW3',\n",
       "  'CRFB3',\n",
       "  'HGTX3',\n",
       "  'NTCO3',\n",
       "  'HYPE3',\n",
       "  'LAME4',\n",
       "  'LREN3',\n",
       "  'MGLU3',\n",
       "  'PCAR3'],\n",
       " 'Companhia aérea': ['AZUL4'],\n",
       " 'Seguros': ['B3SA3', 'BBSE3', 'IRBR3', 'SULA11'],\n",
       " 'Shopping Centers': ['VRML3', 'MULT3', 'IGTA3'],\n",
       " 'Financeiro': ['BBDC4',\n",
       "  'BBDC3',\n",
       "  'BBAS3',\n",
       "  'CIEL3',\n",
       "  'ITSA4',\n",
       "  'ITUB4',\n",
       "  'SANB11'],\n",
       " 'Mineração': ['BRAP4', 'VALE3'],\n",
       " 'Químicos': ['BRKM5'],\n",
       " 'Educação': ['COGN3', 'YDUQ3'],\n",
       " 'Energia Elétrica': ['CPLE6',\n",
       "  'CPFE3',\n",
       "  'ELET6',\n",
       "  'CMIG4',\n",
       "  'ELET3',\n",
       "  'ENBR3',\n",
       "  'ENGI11',\n",
       "  'ENEV3',\n",
       "  'ENGIE3',\n",
       "  'EQTL3',\n",
       "  'TAEE11'],\n",
       " 'Viagens e lazer': ['CVCB3'],\n",
       " 'Construção civil': ['CYRE3', 'MRVE3', 'EZTC3', 'JHSF3'],\n",
       " 'Saúde': ['FLRY3', 'HAPV3', 'GNDI3', 'QUAL3', 'RADL3'],\n",
       " 'Siderurgia e Metalurgia': ['GGBR4', 'GOAU4', 'CSNA3', 'USIM5'],\n",
       " 'Madeira e papel': ['KLBN11', 'SUZB5'],\n",
       " 'Aluguel de Veículos': ['LCAM3', 'RENT3'],\n",
       " 'Petróleo e Gás': ['PETR3', 'PETR4', 'BRDT3', 'PRIO3', 'UGPA3'],\n",
       " 'Saneamento': ['SBSP3'],\n",
       " 'Telecomunicações': ['VIVT4', 'TIMP3'],\n",
       " 'Tecnologia': ['TOTS3'],\n",
       " 'Comércio': ['VVAR3'],\n",
       " 'Bens Industriais': ['WEGE3', 'CCRO3', 'ECOR3', 'EMBR3', 'GOLL4', 'RAIL3']}"
      ]
     },
     "execution_count": 62,
     "metadata": {},
     "output_type": "execute_result"
    }
   ],
   "source": [
    "# Dicionário com os setores econômicos e suas respectivas ações (essencial para o Dropdown)\n",
    "d = {}\n",
    "for acao, setor in zip(acoes_setores_dict['Ticker'], acoes_setores_dict['Setor']):\n",
    "    if setor not in d.keys():\n",
    "        d[setor] = [acao]\n",
    "    else:\n",
    "        d[setor].append(acao)\n",
    "# Removendo setores redundantes\n",
    "d['Bens Industriais'].extend(d['Bens industriais'])\n",
    "d.pop('Bens industriais')\n",
    "d['Bens Industriais']\n",
    "d['Energia Elétrica'].extend(d['Energia elétrica'])\n",
    "d.pop('Energia elétrica')\n",
    "d['Energia Elétrica']\n",
    "d['Aluguel de Veículos'].extend(d['Locação de veículos'])\n",
    "d.pop('Locação de veículos')\n",
    "d['Construção civil'].extend(d['Construção'])\n",
    "d.pop('Construção')\n",
    "d['Shopping Centers'].extend(d['Exploração de imóveis'])\n",
    "d.pop('Exploração de imóveis')\n"
   ]
  },
  {
   "cell_type": "code",
   "execution_count": 63,
   "id": "28bb6c10-097f-42b8-b4cd-e0e8f6ad6db8",
   "metadata": {},
   "outputs": [
    {
     "data": {
      "text/plain": [
       "dict_keys(['Alimentos', 'Varejo', 'Companhia aérea', 'Seguros', 'Shopping Centers', 'Financeiro', 'Mineração', 'Químicos', 'Educação', 'Energia Elétrica', 'Viagens e lazer', 'Construção civil', 'Saúde', 'Siderurgia e Metalurgia', 'Madeira e papel', 'Aluguel de Veículos', 'Petróleo e Gás', 'Saneamento', 'Telecomunicações', 'Tecnologia', 'Comércio', 'Bens Industriais'])"
      ]
     },
     "execution_count": 63,
     "metadata": {},
     "output_type": "execute_result"
    }
   ],
   "source": [
    "d.keys()"
   ]
  },
  {
   "cell_type": "code",
   "execution_count": 64,
   "id": "aee62a03-4b70-4ea1-b1e8-2768aa6ec366",
   "metadata": {},
   "outputs": [
    {
     "data": {
      "text/plain": [
       "dict_values(['Food & Beverages', 'Retail', 'Aerospace', 'Insurace', 'Shopping Malls', 'Finance', 'Mining', 'Chemical', 'Education', 'Electrical Energy', 'Traveling', 'Real Estate', 'Health', 'Steel & Metallurgy', 'Wood & Paper', 'Vehicle Rental', 'Oil & Gas', 'Sanitation', 'Telecommunication', 'Technology', 'Commerce', 'Industrial Goods'])"
      ]
     },
     "execution_count": 64,
     "metadata": {},
     "output_type": "execute_result"
    }
   ],
   "source": [
    "translate = {'Alimentos':'Food & Beverages', 'Varejo':'Retail', 'Companhia aérea':'Aerospace',\n",
    "            'Seguros':'Insurace', 'Shopping Centers':'Shopping Malls', 'Financeiro':'Finance',\n",
    "            'Mineração':'Mining','Químicos':'Chemical', 'Educação':'Education',\n",
    "             'Energia Elétrica':'Electrical Energy','Viagens e lazer':'Traveling',\n",
    "            'Construção civil':'Real Estate','Saúde':'Health','Siderurgia e Metalurgia':'Steel & Metallurgy',\n",
    "            'Madeira e papel':'Wood & Paper', 'Aluguel de Veículos':'Vehicle Rental', \n",
    "             'Petróleo e Gás':'Oil & Gas', 'Saneamento':'Sanitation','Telecomunicações':'Telecommunication',\n",
    "            'Tecnologia':'Technology','Comércio':'Commerce','Bens Industriais':'Industrial Goods'}\n",
    "translate.values()"
   ]
  },
  {
   "cell_type": "code",
   "execution_count": 65,
   "id": "3b42a472-c7a0-4f1c-a589-de452ac5f8fa",
   "metadata": {},
   "outputs": [
    {
     "data": {
      "text/plain": [
       "{'Food & Beverages': ['ABEV3', 'BRFS3', 'CSAN3', 'JBSS3', 'MRFG3', 'BEEF3'],\n",
       " 'Retail': ['ASAI3',\n",
       "  'BTOW3',\n",
       "  'CRFB3',\n",
       "  'HGTX3',\n",
       "  'NTCO3',\n",
       "  'HYPE3',\n",
       "  'LAME4',\n",
       "  'LREN3',\n",
       "  'MGLU3',\n",
       "  'PCAR3'],\n",
       " 'Aerospace': ['AZUL4'],\n",
       " 'Insurace': ['B3SA3', 'BBSE3', 'IRBR3', 'SULA11'],\n",
       " 'Shopping Malls': ['VRML3', 'MULT3', 'IGTA3'],\n",
       " 'Finance': ['BBDC4', 'BBDC3', 'BBAS3', 'CIEL3', 'ITSA4', 'ITUB4', 'SANB11'],\n",
       " 'Mining': ['BRAP4', 'VALE3'],\n",
       " 'Chemical': ['BRKM5'],\n",
       " 'Education': ['COGN3', 'YDUQ3'],\n",
       " 'Electrical Energy': ['CPLE6',\n",
       "  'CPFE3',\n",
       "  'ELET6',\n",
       "  'CMIG4',\n",
       "  'ELET3',\n",
       "  'ENBR3',\n",
       "  'ENGI11',\n",
       "  'ENEV3',\n",
       "  'ENGIE3',\n",
       "  'EQTL3',\n",
       "  'TAEE11'],\n",
       " 'Traveling': ['CVCB3'],\n",
       " 'Real Estate': ['CYRE3', 'MRVE3', 'EZTC3', 'JHSF3'],\n",
       " 'Health': ['FLRY3', 'HAPV3', 'GNDI3', 'QUAL3', 'RADL3'],\n",
       " 'Steel & Metallurgy': ['GGBR4', 'GOAU4', 'CSNA3', 'USIM5'],\n",
       " 'Wood & Paper': ['KLBN11', 'SUZB5'],\n",
       " 'Vehicle Rental': ['LCAM3', 'RENT3'],\n",
       " 'Oil & Gas': ['PETR3', 'PETR4', 'BRDT3', 'PRIO3', 'UGPA3'],\n",
       " 'Sanitation': ['SBSP3'],\n",
       " 'Telecommunication': ['VIVT4', 'TIMP3'],\n",
       " 'Technology': ['TOTS3'],\n",
       " 'Commerce': ['VVAR3'],\n",
       " 'Industrial Goods': ['WEGE3', 'CCRO3', 'ECOR3', 'EMBR3', 'GOLL4', 'RAIL3']}"
      ]
     },
     "execution_count": 65,
     "metadata": {},
     "output_type": "execute_result"
    }
   ],
   "source": [
    "for key, value in translate.items():\n",
    "    d[value] = d.pop(key)\n",
    "d"
   ]
  },
  {
   "cell_type": "code",
   "execution_count": 24,
   "id": "457659cf-9b21-456c-b689-4fd1d6a701a3",
   "metadata": {},
   "outputs": [
    {
     "ename": "TypeError",
     "evalue": "'dict_keys' object is not subscriptable",
     "output_type": "error",
     "traceback": [
      "\u001b[0;31m---------------------------------------------------------------------------\u001b[0m",
      "\u001b[0;31mTypeError\u001b[0m                                 Traceback (most recent call last)",
      "\u001b[0;32m<ipython-input-24-614fb5eaaeef>\u001b[0m in \u001b[0;36m<module>\u001b[0;34m\u001b[0m\n\u001b[1;32m      1\u001b[0m \u001b[0ma\u001b[0m \u001b[0;34m=\u001b[0m \u001b[0;34m{\u001b[0m\u001b[0;34m'A'\u001b[0m\u001b[0;34m:\u001b[0m\u001b[0;36m1\u001b[0m\u001b[0;34m,\u001b[0m \u001b[0;34m'B'\u001b[0m\u001b[0;34m:\u001b[0m\u001b[0;36m2\u001b[0m\u001b[0;34m,\u001b[0m \u001b[0;34m'C'\u001b[0m\u001b[0;34m:\u001b[0m\u001b[0;36m3\u001b[0m\u001b[0;34m}\u001b[0m\u001b[0;34m\u001b[0m\u001b[0;34m\u001b[0m\u001b[0m\n\u001b[0;32m----> 2\u001b[0;31m \u001b[0ma\u001b[0m\u001b[0;34m.\u001b[0m\u001b[0mkeys\u001b[0m\u001b[0;34m(\u001b[0m\u001b[0;34m)\u001b[0m\u001b[0;34m[\u001b[0m\u001b[0;36m0\u001b[0m\u001b[0;34m]\u001b[0m\u001b[0;34m\u001b[0m\u001b[0;34m\u001b[0m\u001b[0m\n\u001b[0m",
      "\u001b[0;31mTypeError\u001b[0m: 'dict_keys' object is not subscriptable"
     ]
    }
   ],
   "source": [
    "a = {'A':1, 'B':2, 'C':3}\n",
    "a.keys()[0]"
   ]
  },
  {
   "cell_type": "code",
   "execution_count": 113,
   "id": "bcc4fdd1-993c-46b8-8ef7-3f41e918ca00",
   "metadata": {},
   "outputs": [
    {
     "data": {
      "text/plain": [
       "27.30496806537323"
      ]
     },
     "execution_count": 113,
     "metadata": {},
     "output_type": "execute_result"
    }
   ],
   "source": [
    "# Testando a funcionalidade de extração das médias das ações (para o cartão de desempenho de setor)\n",
    "np.mean([web.DataReader(f'{acao}.SA', 'yahoo', start='01-01-2015', end='31-12-2021')['Adj Close'].mean() for acao in d['Mineração']])"
   ]
  },
  {
   "cell_type": "code",
   "execution_count": 116,
   "id": "8e61be8e-14e3-481e-8372-9f28ebffe3a8",
   "metadata": {},
   "outputs": [
    {
     "data": {
      "text/html": [
       "<div>\n",
       "<style scoped>\n",
       "    .dataframe tbody tr th:only-of-type {\n",
       "        vertical-align: middle;\n",
       "    }\n",
       "\n",
       "    .dataframe tbody tr th {\n",
       "        vertical-align: top;\n",
       "    }\n",
       "\n",
       "    .dataframe thead th {\n",
       "        text-align: right;\n",
       "    }\n",
       "</style>\n",
       "<table border=\"1\" class=\"dataframe\">\n",
       "  <thead>\n",
       "    <tr style=\"text-align: right;\">\n",
       "      <th></th>\n",
       "      <th>Date</th>\n",
       "      <th>High</th>\n",
       "      <th>Low</th>\n",
       "      <th>Open</th>\n",
       "      <th>Close</th>\n",
       "      <th>Volume</th>\n",
       "      <th>Adj Close</th>\n",
       "    </tr>\n",
       "  </thead>\n",
       "  <tbody>\n",
       "    <tr>\n",
       "      <th>0</th>\n",
       "      <td>2015-01-02</td>\n",
       "      <td>16.559999</td>\n",
       "      <td>15.770000</td>\n",
       "      <td>16.139999</td>\n",
       "      <td>16.020000</td>\n",
       "      <td>19396500.0</td>\n",
       "      <td>12.145534</td>\n",
       "    </tr>\n",
       "    <tr>\n",
       "      <th>1</th>\n",
       "      <td>2015-01-05</td>\n",
       "      <td>15.970000</td>\n",
       "      <td>15.540000</td>\n",
       "      <td>15.910000</td>\n",
       "      <td>15.730000</td>\n",
       "      <td>13795900.0</td>\n",
       "      <td>11.925672</td>\n",
       "    </tr>\n",
       "    <tr>\n",
       "      <th>2</th>\n",
       "      <td>2015-01-06</td>\n",
       "      <td>16.420000</td>\n",
       "      <td>15.560000</td>\n",
       "      <td>15.730000</td>\n",
       "      <td>16.330000</td>\n",
       "      <td>18610500.0</td>\n",
       "      <td>12.380562</td>\n",
       "    </tr>\n",
       "    <tr>\n",
       "      <th>3</th>\n",
       "      <td>2015-01-07</td>\n",
       "      <td>16.719999</td>\n",
       "      <td>16.139999</td>\n",
       "      <td>16.340000</td>\n",
       "      <td>16.559999</td>\n",
       "      <td>20493500.0</td>\n",
       "      <td>12.554935</td>\n",
       "    </tr>\n",
       "    <tr>\n",
       "      <th>4</th>\n",
       "      <td>2015-01-08</td>\n",
       "      <td>16.680000</td>\n",
       "      <td>16.260000</td>\n",
       "      <td>16.430000</td>\n",
       "      <td>16.540001</td>\n",
       "      <td>9054500.0</td>\n",
       "      <td>13.311451</td>\n",
       "    </tr>\n",
       "    <tr>\n",
       "      <th>...</th>\n",
       "      <td>...</td>\n",
       "      <td>...</td>\n",
       "      <td>...</td>\n",
       "      <td>...</td>\n",
       "      <td>...</td>\n",
       "      <td>...</td>\n",
       "      <td>...</td>\n",
       "    </tr>\n",
       "    <tr>\n",
       "      <th>1733</th>\n",
       "      <td>2021-12-23</td>\n",
       "      <td>15.670000</td>\n",
       "      <td>15.340000</td>\n",
       "      <td>15.400000</td>\n",
       "      <td>15.550000</td>\n",
       "      <td>10634700.0</td>\n",
       "      <td>15.550000</td>\n",
       "    </tr>\n",
       "    <tr>\n",
       "      <th>1734</th>\n",
       "      <td>2021-12-27</td>\n",
       "      <td>15.650000</td>\n",
       "      <td>15.480000</td>\n",
       "      <td>15.550000</td>\n",
       "      <td>15.530000</td>\n",
       "      <td>8437200.0</td>\n",
       "      <td>15.530000</td>\n",
       "    </tr>\n",
       "    <tr>\n",
       "      <th>1735</th>\n",
       "      <td>2021-12-28</td>\n",
       "      <td>15.570000</td>\n",
       "      <td>15.400000</td>\n",
       "      <td>15.540000</td>\n",
       "      <td>15.520000</td>\n",
       "      <td>7701300.0</td>\n",
       "      <td>15.520000</td>\n",
       "    </tr>\n",
       "    <tr>\n",
       "      <th>1736</th>\n",
       "      <td>2021-12-29</td>\n",
       "      <td>15.560000</td>\n",
       "      <td>15.340000</td>\n",
       "      <td>15.550000</td>\n",
       "      <td>15.450000</td>\n",
       "      <td>8847300.0</td>\n",
       "      <td>15.450000</td>\n",
       "    </tr>\n",
       "    <tr>\n",
       "      <th>1737</th>\n",
       "      <td>2021-12-30</td>\n",
       "      <td>15.590000</td>\n",
       "      <td>15.390000</td>\n",
       "      <td>15.580000</td>\n",
       "      <td>15.420000</td>\n",
       "      <td>11819300.0</td>\n",
       "      <td>15.420000</td>\n",
       "    </tr>\n",
       "  </tbody>\n",
       "</table>\n",
       "<p>1738 rows × 7 columns</p>\n",
       "</div>"
      ],
      "text/plain": [
       "           Date       High        Low       Open      Close      Volume  \\\n",
       "0    2015-01-02  16.559999  15.770000  16.139999  16.020000  19396500.0   \n",
       "1    2015-01-05  15.970000  15.540000  15.910000  15.730000  13795900.0   \n",
       "2    2015-01-06  16.420000  15.560000  15.730000  16.330000  18610500.0   \n",
       "3    2015-01-07  16.719999  16.139999  16.340000  16.559999  20493500.0   \n",
       "4    2015-01-08  16.680000  16.260000  16.430000  16.540001   9054500.0   \n",
       "...         ...        ...        ...        ...        ...         ...   \n",
       "1733 2021-12-23  15.670000  15.340000  15.400000  15.550000  10634700.0   \n",
       "1734 2021-12-27  15.650000  15.480000  15.550000  15.530000   8437200.0   \n",
       "1735 2021-12-28  15.570000  15.400000  15.540000  15.520000   7701300.0   \n",
       "1736 2021-12-29  15.560000  15.340000  15.550000  15.450000   8847300.0   \n",
       "1737 2021-12-30  15.590000  15.390000  15.580000  15.420000  11819300.0   \n",
       "\n",
       "      Adj Close  \n",
       "0     12.145534  \n",
       "1     11.925672  \n",
       "2     12.380562  \n",
       "3     12.554935  \n",
       "4     13.311451  \n",
       "...         ...  \n",
       "1733  15.550000  \n",
       "1734  15.530000  \n",
       "1735  15.520000  \n",
       "1736  15.450000  \n",
       "1737  15.420000  \n",
       "\n",
       "[1738 rows x 7 columns]"
      ]
     },
     "execution_count": 116,
     "metadata": {},
     "output_type": "execute_result"
    }
   ],
   "source": [
    "# Extraindo os dados de uma certa ação pertencente ao nosso dicionário.\n",
    "web.DataReader('{}.SA'.format(acoes_setores_dict['Ticker'][0]),'yahoo', start='01/01/2015', end = '31/12/2021').reset_index()"
   ]
  },
  {
   "cell_type": "code",
   "execution_count": 128,
   "id": "f1c675e6-86f7-4b0c-b640-4c63fc877aad",
   "metadata": {},
   "outputs": [],
   "source": [
    "a = web.DataReader('^BVSP', 'yahoo', start='01-01-2015', end='31-12-2021')['Adj Close']"
   ]
  },
  {
   "cell_type": "code",
   "execution_count": 129,
   "id": "b6bdd95f-6b49-4dc5-bf25-35e788b38b98",
   "metadata": {},
   "outputs": [],
   "source": [
    "b= web.DataReader('ABEV3.SA', 'yahoo', start='01-01-2015', end='31-12-2021')['Adj Close']"
   ]
  },
  {
   "cell_type": "code",
   "execution_count": 130,
   "id": "5a1eebe9-236b-405d-9f71-4cc2015e3fbe",
   "metadata": {},
   "outputs": [
    {
     "name": "stdout",
     "output_type": "stream",
     "text": [
      "2017-06-15 00:00:00\n",
      "2017-09-07 00:00:00\n",
      "2017-10-12 00:00:00\n",
      "2017-11-02 00:00:00\n",
      "2017-11-15 00:00:00\n",
      "2017-11-20 00:00:00\n",
      "2017-12-25 00:00:00\n",
      "2018-01-25 00:00:00\n"
     ]
    }
   ],
   "source": [
    "for date in b.index:\n",
    "    if date not in a.index:\n",
    "        print(date)"
   ]
  },
  {
   "cell_type": "code",
   "execution_count": 9,
   "id": "457a89ab-4dd2-4259-8174-a52a887556f4",
   "metadata": {
    "tags": []
   },
   "outputs": [
    {
     "ename": "RemoteDataError",
     "evalue": "No data fetched for symbol BRDT3.SA using YahooDailyReader",
     "output_type": "error",
     "traceback": [
      "\u001b[0;31m---------------------------------------------------------------------------\u001b[0m",
      "\u001b[0;31mKeyError\u001b[0m                                  Traceback (most recent call last)",
      "\u001b[0;32m~/opt/anaconda3/lib/python3.8/site-packages/pandas_datareader/yahoo/daily.py\u001b[0m in \u001b[0;36m_read_one_data\u001b[0;34m(self, url, params)\u001b[0m\n\u001b[1;32m    152\u001b[0m             \u001b[0mj\u001b[0m \u001b[0;34m=\u001b[0m \u001b[0mjson\u001b[0m\u001b[0;34m.\u001b[0m\u001b[0mloads\u001b[0m\u001b[0;34m(\u001b[0m\u001b[0mre\u001b[0m\u001b[0;34m.\u001b[0m\u001b[0msearch\u001b[0m\u001b[0;34m(\u001b[0m\u001b[0mptrn\u001b[0m\u001b[0;34m,\u001b[0m \u001b[0mresp\u001b[0m\u001b[0;34m.\u001b[0m\u001b[0mtext\u001b[0m\u001b[0;34m,\u001b[0m \u001b[0mre\u001b[0m\u001b[0;34m.\u001b[0m\u001b[0mDOTALL\u001b[0m\u001b[0;34m)\u001b[0m\u001b[0;34m.\u001b[0m\u001b[0mgroup\u001b[0m\u001b[0;34m(\u001b[0m\u001b[0;36m1\u001b[0m\u001b[0;34m)\u001b[0m\u001b[0;34m)\u001b[0m\u001b[0;34m\u001b[0m\u001b[0;34m\u001b[0m\u001b[0m\n\u001b[0;32m--> 153\u001b[0;31m             \u001b[0mdata\u001b[0m \u001b[0;34m=\u001b[0m \u001b[0mj\u001b[0m\u001b[0;34m[\u001b[0m\u001b[0;34m\"context\"\u001b[0m\u001b[0;34m]\u001b[0m\u001b[0;34m[\u001b[0m\u001b[0;34m\"dispatcher\"\u001b[0m\u001b[0;34m]\u001b[0m\u001b[0;34m[\u001b[0m\u001b[0;34m\"stores\"\u001b[0m\u001b[0;34m]\u001b[0m\u001b[0;34m[\u001b[0m\u001b[0;34m\"HistoricalPriceStore\"\u001b[0m\u001b[0;34m]\u001b[0m\u001b[0;34m\u001b[0m\u001b[0;34m\u001b[0m\u001b[0m\n\u001b[0m\u001b[1;32m    154\u001b[0m         \u001b[0;32mexcept\u001b[0m \u001b[0mKeyError\u001b[0m\u001b[0;34m:\u001b[0m\u001b[0;34m\u001b[0m\u001b[0;34m\u001b[0m\u001b[0m\n",
      "\u001b[0;31mKeyError\u001b[0m: 'HistoricalPriceStore'",
      "\nDuring handling of the above exception, another exception occurred:\n",
      "\u001b[0;31mRemoteDataError\u001b[0m                           Traceback (most recent call last)",
      "\u001b[0;32m<ipython-input-9-ccb19a1df832>\u001b[0m in \u001b[0;36m<module>\u001b[0;34m\u001b[0m\n\u001b[0;32m----> 1\u001b[0;31m \u001b[0mweb\u001b[0m\u001b[0;34m.\u001b[0m\u001b[0mDataReader\u001b[0m\u001b[0;34m(\u001b[0m\u001b[0;34m'BRDT3.SA'\u001b[0m\u001b[0;34m,\u001b[0m \u001b[0;34m'yahoo'\u001b[0m\u001b[0;34m,\u001b[0m \u001b[0;34m'01-01-2015'\u001b[0m\u001b[0;34m,\u001b[0m \u001b[0;34m'31-12-2021'\u001b[0m\u001b[0;34m)\u001b[0m\u001b[0;34m\u001b[0m\u001b[0;34m\u001b[0m\u001b[0m\n\u001b[0m",
      "\u001b[0;32m~/opt/anaconda3/lib/python3.8/site-packages/pandas/util/_decorators.py\u001b[0m in \u001b[0;36mwrapper\u001b[0;34m(*args, **kwargs)\u001b[0m\n\u001b[1;32m    197\u001b[0m                 \u001b[0;32melse\u001b[0m\u001b[0;34m:\u001b[0m\u001b[0;34m\u001b[0m\u001b[0;34m\u001b[0m\u001b[0m\n\u001b[1;32m    198\u001b[0m                     \u001b[0mkwargs\u001b[0m\u001b[0;34m[\u001b[0m\u001b[0mnew_arg_name\u001b[0m\u001b[0;34m]\u001b[0m \u001b[0;34m=\u001b[0m \u001b[0mnew_arg_value\u001b[0m\u001b[0;34m\u001b[0m\u001b[0;34m\u001b[0m\u001b[0m\n\u001b[0;32m--> 199\u001b[0;31m             \u001b[0;32mreturn\u001b[0m \u001b[0mfunc\u001b[0m\u001b[0;34m(\u001b[0m\u001b[0;34m*\u001b[0m\u001b[0margs\u001b[0m\u001b[0;34m,\u001b[0m \u001b[0;34m**\u001b[0m\u001b[0mkwargs\u001b[0m\u001b[0;34m)\u001b[0m\u001b[0;34m\u001b[0m\u001b[0;34m\u001b[0m\u001b[0m\n\u001b[0m\u001b[1;32m    200\u001b[0m \u001b[0;34m\u001b[0m\u001b[0m\n\u001b[1;32m    201\u001b[0m         \u001b[0;32mreturn\u001b[0m \u001b[0mcast\u001b[0m\u001b[0;34m(\u001b[0m\u001b[0mF\u001b[0m\u001b[0;34m,\u001b[0m \u001b[0mwrapper\u001b[0m\u001b[0;34m)\u001b[0m\u001b[0;34m\u001b[0m\u001b[0;34m\u001b[0m\u001b[0m\n",
      "\u001b[0;32m~/opt/anaconda3/lib/python3.8/site-packages/pandas_datareader/data.py\u001b[0m in \u001b[0;36mDataReader\u001b[0;34m(name, data_source, start, end, retry_count, pause, session, api_key)\u001b[0m\n\u001b[1;32m    368\u001b[0m \u001b[0;34m\u001b[0m\u001b[0m\n\u001b[1;32m    369\u001b[0m     \u001b[0;32mif\u001b[0m \u001b[0mdata_source\u001b[0m \u001b[0;34m==\u001b[0m \u001b[0;34m\"yahoo\"\u001b[0m\u001b[0;34m:\u001b[0m\u001b[0;34m\u001b[0m\u001b[0;34m\u001b[0m\u001b[0m\n\u001b[0;32m--> 370\u001b[0;31m         return YahooDailyReader(\n\u001b[0m\u001b[1;32m    371\u001b[0m             \u001b[0msymbols\u001b[0m\u001b[0;34m=\u001b[0m\u001b[0mname\u001b[0m\u001b[0;34m,\u001b[0m\u001b[0;34m\u001b[0m\u001b[0;34m\u001b[0m\u001b[0m\n\u001b[1;32m    372\u001b[0m             \u001b[0mstart\u001b[0m\u001b[0;34m=\u001b[0m\u001b[0mstart\u001b[0m\u001b[0;34m,\u001b[0m\u001b[0;34m\u001b[0m\u001b[0;34m\u001b[0m\u001b[0m\n",
      "\u001b[0;32m~/opt/anaconda3/lib/python3.8/site-packages/pandas_datareader/base.py\u001b[0m in \u001b[0;36mread\u001b[0;34m(self)\u001b[0m\n\u001b[1;32m    251\u001b[0m         \u001b[0;31m# If a single symbol, (e.g., 'GOOG')\u001b[0m\u001b[0;34m\u001b[0m\u001b[0;34m\u001b[0m\u001b[0;34m\u001b[0m\u001b[0m\n\u001b[1;32m    252\u001b[0m         \u001b[0;32mif\u001b[0m \u001b[0misinstance\u001b[0m\u001b[0;34m(\u001b[0m\u001b[0mself\u001b[0m\u001b[0;34m.\u001b[0m\u001b[0msymbols\u001b[0m\u001b[0;34m,\u001b[0m \u001b[0;34m(\u001b[0m\u001b[0mstring_types\u001b[0m\u001b[0;34m,\u001b[0m \u001b[0mint\u001b[0m\u001b[0;34m)\u001b[0m\u001b[0;34m)\u001b[0m\u001b[0;34m:\u001b[0m\u001b[0;34m\u001b[0m\u001b[0;34m\u001b[0m\u001b[0m\n\u001b[0;32m--> 253\u001b[0;31m             \u001b[0mdf\u001b[0m \u001b[0;34m=\u001b[0m \u001b[0mself\u001b[0m\u001b[0;34m.\u001b[0m\u001b[0m_read_one_data\u001b[0m\u001b[0;34m(\u001b[0m\u001b[0mself\u001b[0m\u001b[0;34m.\u001b[0m\u001b[0murl\u001b[0m\u001b[0;34m,\u001b[0m \u001b[0mparams\u001b[0m\u001b[0;34m=\u001b[0m\u001b[0mself\u001b[0m\u001b[0;34m.\u001b[0m\u001b[0m_get_params\u001b[0m\u001b[0;34m(\u001b[0m\u001b[0mself\u001b[0m\u001b[0;34m.\u001b[0m\u001b[0msymbols\u001b[0m\u001b[0;34m)\u001b[0m\u001b[0;34m)\u001b[0m\u001b[0;34m\u001b[0m\u001b[0;34m\u001b[0m\u001b[0m\n\u001b[0m\u001b[1;32m    254\u001b[0m         \u001b[0;31m# Or multiple symbols, (e.g., ['GOOG', 'AAPL', 'MSFT'])\u001b[0m\u001b[0;34m\u001b[0m\u001b[0;34m\u001b[0m\u001b[0;34m\u001b[0m\u001b[0m\n\u001b[1;32m    255\u001b[0m         \u001b[0;32melif\u001b[0m \u001b[0misinstance\u001b[0m\u001b[0;34m(\u001b[0m\u001b[0mself\u001b[0m\u001b[0;34m.\u001b[0m\u001b[0msymbols\u001b[0m\u001b[0;34m,\u001b[0m \u001b[0mDataFrame\u001b[0m\u001b[0;34m)\u001b[0m\u001b[0;34m:\u001b[0m\u001b[0;34m\u001b[0m\u001b[0;34m\u001b[0m\u001b[0m\n",
      "\u001b[0;32m~/opt/anaconda3/lib/python3.8/site-packages/pandas_datareader/yahoo/daily.py\u001b[0m in \u001b[0;36m_read_one_data\u001b[0;34m(self, url, params)\u001b[0m\n\u001b[1;32m    154\u001b[0m         \u001b[0;32mexcept\u001b[0m \u001b[0mKeyError\u001b[0m\u001b[0;34m:\u001b[0m\u001b[0;34m\u001b[0m\u001b[0;34m\u001b[0m\u001b[0m\n\u001b[1;32m    155\u001b[0m             \u001b[0mmsg\u001b[0m \u001b[0;34m=\u001b[0m \u001b[0;34m\"No data fetched for symbol {} using {}\"\u001b[0m\u001b[0;34m\u001b[0m\u001b[0;34m\u001b[0m\u001b[0m\n\u001b[0;32m--> 156\u001b[0;31m             \u001b[0;32mraise\u001b[0m \u001b[0mRemoteDataError\u001b[0m\u001b[0;34m(\u001b[0m\u001b[0mmsg\u001b[0m\u001b[0;34m.\u001b[0m\u001b[0mformat\u001b[0m\u001b[0;34m(\u001b[0m\u001b[0msymbol\u001b[0m\u001b[0;34m,\u001b[0m \u001b[0mself\u001b[0m\u001b[0;34m.\u001b[0m\u001b[0m__class__\u001b[0m\u001b[0;34m.\u001b[0m\u001b[0m__name__\u001b[0m\u001b[0;34m)\u001b[0m\u001b[0;34m)\u001b[0m\u001b[0;34m\u001b[0m\u001b[0;34m\u001b[0m\u001b[0m\n\u001b[0m\u001b[1;32m    157\u001b[0m \u001b[0;34m\u001b[0m\u001b[0m\n\u001b[1;32m    158\u001b[0m         \u001b[0;31m# price data\u001b[0m\u001b[0;34m\u001b[0m\u001b[0;34m\u001b[0m\u001b[0;34m\u001b[0m\u001b[0m\n",
      "\u001b[0;31mRemoteDataError\u001b[0m: No data fetched for symbol BRDT3.SA using YahooDailyReader"
     ]
    }
   ],
   "source": [
    "web.DataReader('BRDT3.SA', 'yahoo', '01-01-2015', '31-12-2021')"
   ]
  },
  {
   "cell_type": "code",
   "execution_count": 7,
   "id": "2c63c0d0-a4f1-48eb-a6e6-16571cb471e1",
   "metadata": {},
   "outputs": [
    {
     "name": "stdout",
     "output_type": "stream",
     "text": [
      "BTOW3 do setor Varejo ['ASAI3', 'CRFB3', 'HGTX3', 'NTCO3', 'HYPE3', 'LAME4', 'LREN3', 'MGLU3', 'PCAR3']\n",
      "HGTX3 do setor Varejo ['ASAI3', 'CRFB3', 'NTCO3', 'HYPE3', 'LAME4', 'LREN3', 'MGLU3', 'PCAR3']\n",
      "LAME4 do setor Varejo ['ASAI3', 'CRFB3', 'NTCO3', 'HYPE3', 'LREN3', 'MGLU3', 'PCAR3']\n",
      "VRML3 do setor Shopping Centers ['MULT3']\n",
      "ENGIE3 do setor Energia elétrica ['CMIG4', 'ELET3', 'ENBR3', 'ENGI11', 'ENEV3', 'EQTL3', 'TAEE11']\n",
      "GNDI3 do setor Saúde ['FLRY3', 'HAPV3', 'QUAL3', 'RADL3']\n",
      "IGTA3 do setor Exploração de imóveis []\n",
      "SUZB5 do setor Madeira e papel ['KLBN11']\n",
      "BRDT3 do setor Petróleo e Gás ['PETR3', 'PETR4', 'PRIO3', 'UGPA3']\n",
      "VIVT4 do setor Telecomunicações ['TIMP3']\n",
      "VVAR3 do setor Comércio []\n"
     ]
    }
   ],
   "source": [
    "# Removendo as ações que não são retornadas pelo Yahoo.\n",
    "sector_stocks = json.load(open('sector_stocks.json', 'r'))\n",
    "for sector in sector_stocks.keys():\n",
    "    for stock in sector_stocks[sector]:\n",
    "        try:\n",
    "            web.DataReader(f'{stock}.SA', 'yahoo', '01-01-2015', '31-12-2021')\n",
    "        except:\n",
    "            sector_stocks[sector].remove(stock)\n",
    "            print(f'{stock} do setor {sector}', sector_stocks[sector])"
   ]
  },
  {
   "cell_type": "code",
   "execution_count": 32,
   "id": "5b8eab96-5b90-4843-b0e3-8ee7165e8884",
   "metadata": {
    "collapsed": true,
    "jupyter": {
     "outputs_hidden": true
    },
    "tags": []
   },
   "outputs": [
    {
     "data": {
      "text/plain": [
       "['ABEV3',\n",
       " 'ASAI3',\n",
       " 'AZUL4',\n",
       " 'B3SA3',\n",
       " 'BBAS3',\n",
       " 'BBDC3',\n",
       " 'BBDC4',\n",
       " 'BBSE3',\n",
       " 'BEEF3',\n",
       " 'BRAP4',\n",
       " 'BRFS3',\n",
       " 'BRKM5',\n",
       " 'CCRO3',\n",
       " 'CIEL3',\n",
       " 'CMIG4',\n",
       " 'COGN3',\n",
       " 'CPFE3',\n",
       " 'CPLE6',\n",
       " 'CRFB3',\n",
       " 'CSAN3',\n",
       " 'CSNA3',\n",
       " 'CVCB3',\n",
       " 'CYRE3',\n",
       " 'ECOR3',\n",
       " 'ELET3',\n",
       " 'ELET6',\n",
       " 'EMBR3',\n",
       " 'ENBR3',\n",
       " 'ENEV3',\n",
       " 'ENGI11',\n",
       " 'EQTL3',\n",
       " 'EZTC3',\n",
       " 'FLRY3',\n",
       " 'GGBR4',\n",
       " 'GOAU4',\n",
       " 'GOLL4',\n",
       " 'HAPV3',\n",
       " 'HYPE3',\n",
       " 'IRBR3',\n",
       " 'ITSA4',\n",
       " 'ITUB4',\n",
       " 'JBSS3',\n",
       " 'JHSF3',\n",
       " 'KLBN11',\n",
       " 'LCAM3',\n",
       " 'LREN3',\n",
       " 'MGLU3',\n",
       " 'MRFG3',\n",
       " 'MRVE3',\n",
       " 'MULT3',\n",
       " 'NTCO3',\n",
       " 'PCAR3',\n",
       " 'PETR3',\n",
       " 'PETR4',\n",
       " 'PRIO3',\n",
       " 'QUAL3',\n",
       " 'RADL3',\n",
       " 'RAIL3',\n",
       " 'RENT3',\n",
       " 'SANB11',\n",
       " 'SBSP3',\n",
       " 'SULA11',\n",
       " 'TAEE11',\n",
       " 'TIMP3',\n",
       " 'TOTS3',\n",
       " 'UGPA3',\n",
       " 'USIM5',\n",
       " 'VALE3',\n",
       " 'WEGE3',\n",
       " 'YDUQ3']"
      ]
     },
     "execution_count": 32,
     "metadata": {},
     "output_type": "execute_result"
    }
   ],
   "source": [
    "import json\n",
    "sector_stocks = json.load(open('sector_stocks.json', 'r'))\n",
    "carousel_stocks = list(sector_stocks.values())[0]\n",
    "for sector in list(sector_stocks.values())[1:]:\n",
    "    carousel_stocks.extend(sector)\n",
    "carousel_stocks = sorted(carousel_stocks)\n",
    "carousel_stocks"
   ]
  },
  {
   "cell_type": "code",
   "execution_count": 74,
   "id": "11bedb10-bc5a-4717-a443-6280be6b14d3",
   "metadata": {},
   "outputs": [
    {
     "data": {
      "text/plain": [
       "datetime.date(2021, 4, 13)"
      ]
     },
     "execution_count": 74,
     "metadata": {},
     "output_type": "execute_result"
    }
   ],
   "source": [
    "import datetime\n",
    "datetime.datetime.now().date() - datetime.timedelta(days = 7 * 52)"
   ]
  },
  {
   "cell_type": "code",
   "execution_count": 79,
   "id": "734008c7-ec8f-4554-b92f-f041cae1711b",
   "metadata": {},
   "outputs": [],
   "source": [
    "import pandas_datareader as web\n",
    "start = datetime.datetime.now().date() - datetime.timedelta(days = 7 * 52)\n",
    "bvsp = web.DataReader('^BVSP', 'yahoo',start = start, end= datetime.datetime.now().date())['Close']"
   ]
  },
  {
   "cell_type": "code",
   "execution_count": 80,
   "id": "bbdc3129-586e-4657-89e0-8e8e78e14085",
   "metadata": {},
   "outputs": [],
   "source": [
    "abev = web.DataReader('ABEV3.SA', 'yahoo',start = start, end= datetime.datetime.now().date())['Close']"
   ]
  },
  {
   "cell_type": "code",
   "execution_count": 88,
   "id": "73085775-1d6d-4683-a4a8-3268f79b0aed",
   "metadata": {},
   "outputs": [
    {
     "data": {
      "text/plain": [
       "0.5185997796841446"
      ]
     },
     "execution_count": 88,
     "metadata": {},
     "output_type": "execute_result"
    }
   ],
   "source": [
    "from scipy.stats import pearsonr\n",
    "pd.merge(abev, bvsp, left_index=True, right_index=True).corr().iloc[0,1]"
   ]
  },
  {
   "cell_type": "code",
   "execution_count": 2,
   "id": "a4992f6a-2840-4407-8e43-9d9634e7a62b",
   "metadata": {},
   "outputs": [],
   "source": [
    "import json\n",
    "a = json.load(open('sector_stocks.json', 'r'))"
   ]
  },
  {
   "cell_type": "code",
   "execution_count": 34,
   "id": "5ee8f62b-f44d-44ff-8450-6591899ce1c9",
   "metadata": {
    "tags": []
   },
   "outputs": [
    {
     "data": {
      "text/html": [
       "<div>\n",
       "<style scoped>\n",
       "    .dataframe tbody tr th:only-of-type {\n",
       "        vertical-align: middle;\n",
       "    }\n",
       "\n",
       "    .dataframe tbody tr th {\n",
       "        vertical-align: top;\n",
       "    }\n",
       "\n",
       "    .dataframe thead th {\n",
       "        text-align: right;\n",
       "    }\n",
       "</style>\n",
       "<table border=\"1\" class=\"dataframe\">\n",
       "  <thead>\n",
       "    <tr style=\"text-align: right;\">\n",
       "      <th></th>\n",
       "      <th>ABEV3</th>\n",
       "      <th>BRFS3</th>\n",
       "      <th>CSAN3</th>\n",
       "      <th>JBSS3</th>\n",
       "      <th>MRFG3</th>\n",
       "      <th>BEEF3</th>\n",
       "    </tr>\n",
       "    <tr>\n",
       "      <th>Date</th>\n",
       "      <th></th>\n",
       "      <th></th>\n",
       "      <th></th>\n",
       "      <th></th>\n",
       "      <th></th>\n",
       "      <th></th>\n",
       "    </tr>\n",
       "  </thead>\n",
       "  <tbody>\n",
       "    <tr>\n",
       "      <th>2021-01-04</th>\n",
       "      <td>15.480000</td>\n",
       "      <td>21.480000</td>\n",
       "      <td>19.809999</td>\n",
       "      <td>23.410000</td>\n",
       "      <td>14.300000</td>\n",
       "      <td>10.04</td>\n",
       "    </tr>\n",
       "    <tr>\n",
       "      <th>2021-01-05</th>\n",
       "      <td>15.810000</td>\n",
       "      <td>21.309999</td>\n",
       "      <td>19.872499</td>\n",
       "      <td>23.750000</td>\n",
       "      <td>14.210000</td>\n",
       "      <td>9.84</td>\n",
       "    </tr>\n",
       "    <tr>\n",
       "      <th>2021-01-06</th>\n",
       "      <td>16.129999</td>\n",
       "      <td>21.250000</td>\n",
       "      <td>19.825001</td>\n",
       "      <td>23.540001</td>\n",
       "      <td>13.780000</td>\n",
       "      <td>9.70</td>\n",
       "    </tr>\n",
       "    <tr>\n",
       "      <th>2021-01-07</th>\n",
       "      <td>16.049999</td>\n",
       "      <td>21.930000</td>\n",
       "      <td>20.597500</td>\n",
       "      <td>23.830000</td>\n",
       "      <td>13.840000</td>\n",
       "      <td>9.65</td>\n",
       "    </tr>\n",
       "    <tr>\n",
       "      <th>2021-01-08</th>\n",
       "      <td>16.530001</td>\n",
       "      <td>21.980000</td>\n",
       "      <td>20.562500</td>\n",
       "      <td>24.400000</td>\n",
       "      <td>14.010000</td>\n",
       "      <td>9.73</td>\n",
       "    </tr>\n",
       "    <tr>\n",
       "      <th>...</th>\n",
       "      <td>...</td>\n",
       "      <td>...</td>\n",
       "      <td>...</td>\n",
       "      <td>...</td>\n",
       "      <td>...</td>\n",
       "      <td>...</td>\n",
       "    </tr>\n",
       "    <tr>\n",
       "      <th>2021-12-23</th>\n",
       "      <td>15.550000</td>\n",
       "      <td>22.620001</td>\n",
       "      <td>21.150000</td>\n",
       "      <td>37.720001</td>\n",
       "      <td>22.730000</td>\n",
       "      <td>10.53</td>\n",
       "    </tr>\n",
       "    <tr>\n",
       "      <th>2021-12-27</th>\n",
       "      <td>15.530000</td>\n",
       "      <td>22.230000</td>\n",
       "      <td>21.410000</td>\n",
       "      <td>37.470001</td>\n",
       "      <td>22.270000</td>\n",
       "      <td>10.43</td>\n",
       "    </tr>\n",
       "    <tr>\n",
       "      <th>2021-12-28</th>\n",
       "      <td>15.520000</td>\n",
       "      <td>22.590000</td>\n",
       "      <td>21.450001</td>\n",
       "      <td>37.889999</td>\n",
       "      <td>22.780001</td>\n",
       "      <td>10.55</td>\n",
       "    </tr>\n",
       "    <tr>\n",
       "      <th>2021-12-29</th>\n",
       "      <td>15.450000</td>\n",
       "      <td>22.360001</td>\n",
       "      <td>21.459999</td>\n",
       "      <td>38.049999</td>\n",
       "      <td>22.920000</td>\n",
       "      <td>10.62</td>\n",
       "    </tr>\n",
       "    <tr>\n",
       "      <th>2021-12-30</th>\n",
       "      <td>15.420000</td>\n",
       "      <td>22.520000</td>\n",
       "      <td>21.690001</td>\n",
       "      <td>37.950001</td>\n",
       "      <td>22.070000</td>\n",
       "      <td>10.60</td>\n",
       "    </tr>\n",
       "  </tbody>\n",
       "</table>\n",
       "<p>247 rows × 6 columns</p>\n",
       "</div>"
      ],
      "text/plain": [
       "                ABEV3      BRFS3      CSAN3      JBSS3      MRFG3  BEEF3\n",
       "Date                                                                    \n",
       "2021-01-04  15.480000  21.480000  19.809999  23.410000  14.300000  10.04\n",
       "2021-01-05  15.810000  21.309999  19.872499  23.750000  14.210000   9.84\n",
       "2021-01-06  16.129999  21.250000  19.825001  23.540001  13.780000   9.70\n",
       "2021-01-07  16.049999  21.930000  20.597500  23.830000  13.840000   9.65\n",
       "2021-01-08  16.530001  21.980000  20.562500  24.400000  14.010000   9.73\n",
       "...               ...        ...        ...        ...        ...    ...\n",
       "2021-12-23  15.550000  22.620001  21.150000  37.720001  22.730000  10.53\n",
       "2021-12-27  15.530000  22.230000  21.410000  37.470001  22.270000  10.43\n",
       "2021-12-28  15.520000  22.590000  21.450001  37.889999  22.780001  10.55\n",
       "2021-12-29  15.450000  22.360001  21.459999  38.049999  22.920000  10.62\n",
       "2021-12-30  15.420000  22.520000  21.690001  37.950001  22.070000  10.60\n",
       "\n",
       "[247 rows x 6 columns]"
      ]
     },
     "execution_count": 34,
     "metadata": {},
     "output_type": "execute_result"
    }
   ],
   "source": [
    "import pandas as pd\n",
    "import pandas_datareader as web\n",
    "import datetime\n",
    "start = datetime.datetime(2021, 12, 31).date() - \\\n",
    "        datetime.timedelta(days=7 * 52)\n",
    "end = datetime.datetime(2021, 12, 31).date()\n",
    "index = pd.date_range(start=start, end=end)\n",
    "columns = [i for i in a['Food & Beverages']]\n",
    "x = pd.DataFrame()\n",
    "for stock in columns:\n",
    "    x[stock] = web.DataReader(f'{stock}.SA', 'yahoo', start=start, end=end)['Close']\n",
    "x"
   ]
  },
  {
   "cell_type": "code",
   "execution_count": 29,
   "id": "3aac964f-ef13-4442-b504-2ceb968534be",
   "metadata": {},
   "outputs": [],
   "source": [
    "abev= web.DataReader(f'ABEV3.SA', 'yahoo', start=start, end=end)['Close']"
   ]
  },
  {
   "cell_type": "code",
   "execution_count": 36,
   "id": "9921a040-b9ba-42ea-ac1b-d005592c790e",
   "metadata": {},
   "outputs": [
    {
     "data": {
      "text/plain": [
       "6.138174078892358e-12"
      ]
     },
     "execution_count": 36,
     "metadata": {},
     "output_type": "execute_result"
    }
   ],
   "source": [
    "from scipy.stats import pearsonr\n",
    "pearsonr(x.mean(axis=1),abev)[1]"
   ]
  },
  {
   "cell_type": "code",
   "execution_count": 20,
   "id": "b881067d-975b-42e0-8999-08b22c1396e9",
   "metadata": {},
   "outputs": [
    {
     "data": {
      "text/html": [
       "<div>\n",
       "<style scoped>\n",
       "    .dataframe tbody tr th:only-of-type {\n",
       "        vertical-align: middle;\n",
       "    }\n",
       "\n",
       "    .dataframe tbody tr th {\n",
       "        vertical-align: top;\n",
       "    }\n",
       "\n",
       "    .dataframe thead th {\n",
       "        text-align: right;\n",
       "    }\n",
       "</style>\n",
       "<table border=\"1\" class=\"dataframe\">\n",
       "  <thead>\n",
       "    <tr style=\"text-align: right;\">\n",
       "      <th></th>\n",
       "      <th>High</th>\n",
       "      <th>Low</th>\n",
       "      <th>Open</th>\n",
       "      <th>Close</th>\n",
       "      <th>Volume</th>\n",
       "      <th>Adj Close</th>\n",
       "    </tr>\n",
       "    <tr>\n",
       "      <th>Date</th>\n",
       "      <th></th>\n",
       "      <th></th>\n",
       "      <th></th>\n",
       "      <th></th>\n",
       "      <th></th>\n",
       "      <th></th>\n",
       "    </tr>\n",
       "  </thead>\n",
       "  <tbody>\n",
       "    <tr>\n",
       "      <th>2021-01-04</th>\n",
       "      <td>15.85</td>\n",
       "      <td>15.380000</td>\n",
       "      <td>15.790000</td>\n",
       "      <td>15.480000</td>\n",
       "      <td>17835200.0</td>\n",
       "      <td>14.827890</td>\n",
       "    </tr>\n",
       "    <tr>\n",
       "      <th>2021-01-05</th>\n",
       "      <td>16.02</td>\n",
       "      <td>15.230000</td>\n",
       "      <td>15.370000</td>\n",
       "      <td>15.810000</td>\n",
       "      <td>37105800.0</td>\n",
       "      <td>15.143991</td>\n",
       "    </tr>\n",
       "    <tr>\n",
       "      <th>2021-01-06</th>\n",
       "      <td>16.23</td>\n",
       "      <td>15.630000</td>\n",
       "      <td>15.660000</td>\n",
       "      <td>16.129999</td>\n",
       "      <td>28371600.0</td>\n",
       "      <td>15.450509</td>\n",
       "    </tr>\n",
       "    <tr>\n",
       "      <th>2021-01-07</th>\n",
       "      <td>16.24</td>\n",
       "      <td>15.910000</td>\n",
       "      <td>16.030001</td>\n",
       "      <td>16.049999</td>\n",
       "      <td>32540100.0</td>\n",
       "      <td>15.373878</td>\n",
       "    </tr>\n",
       "    <tr>\n",
       "      <th>2021-01-08</th>\n",
       "      <td>16.75</td>\n",
       "      <td>16.030001</td>\n",
       "      <td>16.100000</td>\n",
       "      <td>16.530001</td>\n",
       "      <td>30188800.0</td>\n",
       "      <td>15.833660</td>\n",
       "    </tr>\n",
       "    <tr>\n",
       "      <th>...</th>\n",
       "      <td>...</td>\n",
       "      <td>...</td>\n",
       "      <td>...</td>\n",
       "      <td>...</td>\n",
       "      <td>...</td>\n",
       "      <td>...</td>\n",
       "    </tr>\n",
       "    <tr>\n",
       "      <th>2021-12-23</th>\n",
       "      <td>15.67</td>\n",
       "      <td>15.340000</td>\n",
       "      <td>15.400000</td>\n",
       "      <td>15.550000</td>\n",
       "      <td>10634700.0</td>\n",
       "      <td>15.550000</td>\n",
       "    </tr>\n",
       "    <tr>\n",
       "      <th>2021-12-27</th>\n",
       "      <td>15.65</td>\n",
       "      <td>15.480000</td>\n",
       "      <td>15.550000</td>\n",
       "      <td>15.530000</td>\n",
       "      <td>8437200.0</td>\n",
       "      <td>15.530000</td>\n",
       "    </tr>\n",
       "    <tr>\n",
       "      <th>2021-12-28</th>\n",
       "      <td>15.57</td>\n",
       "      <td>15.400000</td>\n",
       "      <td>15.540000</td>\n",
       "      <td>15.520000</td>\n",
       "      <td>7701300.0</td>\n",
       "      <td>15.520000</td>\n",
       "    </tr>\n",
       "    <tr>\n",
       "      <th>2021-12-29</th>\n",
       "      <td>15.56</td>\n",
       "      <td>15.340000</td>\n",
       "      <td>15.550000</td>\n",
       "      <td>15.450000</td>\n",
       "      <td>8847300.0</td>\n",
       "      <td>15.450000</td>\n",
       "    </tr>\n",
       "    <tr>\n",
       "      <th>2021-12-30</th>\n",
       "      <td>15.59</td>\n",
       "      <td>15.390000</td>\n",
       "      <td>15.580000</td>\n",
       "      <td>15.420000</td>\n",
       "      <td>11819300.0</td>\n",
       "      <td>15.420000</td>\n",
       "    </tr>\n",
       "  </tbody>\n",
       "</table>\n",
       "<p>247 rows × 6 columns</p>\n",
       "</div>"
      ],
      "text/plain": [
       "             High        Low       Open      Close      Volume  Adj Close\n",
       "Date                                                                     \n",
       "2021-01-04  15.85  15.380000  15.790000  15.480000  17835200.0  14.827890\n",
       "2021-01-05  16.02  15.230000  15.370000  15.810000  37105800.0  15.143991\n",
       "2021-01-06  16.23  15.630000  15.660000  16.129999  28371600.0  15.450509\n",
       "2021-01-07  16.24  15.910000  16.030001  16.049999  32540100.0  15.373878\n",
       "2021-01-08  16.75  16.030001  16.100000  16.530001  30188800.0  15.833660\n",
       "...           ...        ...        ...        ...         ...        ...\n",
       "2021-12-23  15.67  15.340000  15.400000  15.550000  10634700.0  15.550000\n",
       "2021-12-27  15.65  15.480000  15.550000  15.530000   8437200.0  15.530000\n",
       "2021-12-28  15.57  15.400000  15.540000  15.520000   7701300.0  15.520000\n",
       "2021-12-29  15.56  15.340000  15.550000  15.450000   8847300.0  15.450000\n",
       "2021-12-30  15.59  15.390000  15.580000  15.420000  11819300.0  15.420000\n",
       "\n",
       "[247 rows x 6 columns]"
      ]
     },
     "execution_count": 20,
     "metadata": {},
     "output_type": "execute_result"
    }
   ],
   "source": [
    "web.DataReader(f'ABEV3.SA', 'yahoo', start=start, end=end)"
   ]
  }
 ],
 "metadata": {
  "kernelspec": {
   "display_name": "Python 3",
   "language": "python",
   "name": "python3"
  },
  "language_info": {
   "codemirror_mode": {
    "name": "ipython",
    "version": 3
   },
   "file_extension": ".py",
   "mimetype": "text/x-python",
   "name": "python",
   "nbconvert_exporter": "python",
   "pygments_lexer": "ipython3",
   "version": "3.8.8"
  }
 },
 "nbformat": 4,
 "nbformat_minor": 5
}
